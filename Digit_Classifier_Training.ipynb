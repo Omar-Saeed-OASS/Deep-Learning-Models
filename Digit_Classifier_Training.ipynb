{
  "nbformat": 4,
  "nbformat_minor": 0,
  "metadata": {
    "colab": {
      "provenance": [],
      "gpuType": "T4",
      "include_colab_link": true
    },
    "kernelspec": {
      "name": "python3",
      "display_name": "Python 3"
    },
    "language_info": {
      "name": "python"
    },
    "accelerator": "GPU"
  },
  "cells": [
    {
      "cell_type": "markdown",
      "metadata": {
        "id": "view-in-github",
        "colab_type": "text"
      },
      "source": [
        "<a href=\"https://colab.research.google.com/github/Omar-Saeed-OASS/Digit-Classifier-Deep-Learning-Model/blob/main/Digit_Classifier_Training.ipynb\" target=\"_parent\"><img src=\"https://colab.research.google.com/assets/colab-badge.svg\" alt=\"Open In Colab\"/></a>"
      ]
    },
    {
      "cell_type": "markdown",
      "source": [
        "# Import Libraries:"
      ],
      "metadata": {
        "id": "QcWlD9htvETI"
      }
    },
    {
      "cell_type": "code",
      "execution_count": 1,
      "metadata": {
        "id": "G9vdR9o7G7rc"
      },
      "outputs": [],
      "source": [
        "# Import libraries:\n",
        "\n",
        "import torch\n",
        "from torch import nn\n",
        "\n",
        "# Torch vision:\n",
        "import torchvision\n",
        "from torchvision import datasets\n",
        "from torchvision.transforms import ToTensor\n",
        "\n",
        "# DataLoader:\n",
        "from torch.utils.data import DataLoader\n",
        "\n",
        "# Matplotlib:\n",
        "import matplotlib.pyplot as plt\n",
        "\n",
        "# Timeit:\n",
        "import timeit\n",
        "\n",
        "# Path\n",
        "from pathlib import Path"
      ]
    },
    {
      "cell_type": "markdown",
      "source": [
        "# Download the Datasets:"
      ],
      "metadata": {
        "id": "rCz0P4dKvJQu"
      }
    },
    {
      "cell_type": "code",
      "source": [
        "# Download the MNIST handwritten digits dataset:\n",
        "\n",
        "PATH = \"/content\"\n",
        "\n",
        "# Training dataset\n",
        "train = torchvision.datasets.MNIST(\n",
        "    root=PATH,\n",
        "    download=True,\n",
        "    train=True,\n",
        "    transform=ToTensor(),\n",
        ")\n",
        "\n",
        "# Testing dataset\n",
        "test = torchvision.datasets.MNIST(\n",
        "    root=PATH,\n",
        "    download=True,\n",
        "    train=False,\n",
        "    transform=ToTensor()\n",
        ")\n"
      ],
      "metadata": {
        "id": "iQvAUHtdIaWA",
        "colab": {
          "base_uri": "https://localhost:8080/"
        },
        "outputId": "9e2bb3c2-27a5-4a34-e3fc-cc934c97fa55"
      },
      "execution_count": 2,
      "outputs": [
        {
          "output_type": "stream",
          "name": "stdout",
          "text": [
            "Downloading http://yann.lecun.com/exdb/mnist/train-images-idx3-ubyte.gz\n",
            "Failed to download (trying next):\n",
            "HTTP Error 404: Not Found\n",
            "\n",
            "Downloading https://ossci-datasets.s3.amazonaws.com/mnist/train-images-idx3-ubyte.gz\n",
            "Downloading https://ossci-datasets.s3.amazonaws.com/mnist/train-images-idx3-ubyte.gz to /content/MNIST/raw/train-images-idx3-ubyte.gz\n"
          ]
        },
        {
          "output_type": "stream",
          "name": "stderr",
          "text": [
            "100%|██████████| 9.91M/9.91M [00:10<00:00, 908kB/s] \n"
          ]
        },
        {
          "output_type": "stream",
          "name": "stdout",
          "text": [
            "Extracting /content/MNIST/raw/train-images-idx3-ubyte.gz to /content/MNIST/raw\n",
            "\n",
            "Downloading http://yann.lecun.com/exdb/mnist/train-labels-idx1-ubyte.gz\n",
            "Failed to download (trying next):\n",
            "HTTP Error 404: Not Found\n",
            "\n",
            "Downloading https://ossci-datasets.s3.amazonaws.com/mnist/train-labels-idx1-ubyte.gz\n",
            "Downloading https://ossci-datasets.s3.amazonaws.com/mnist/train-labels-idx1-ubyte.gz to /content/MNIST/raw/train-labels-idx1-ubyte.gz\n"
          ]
        },
        {
          "output_type": "stream",
          "name": "stderr",
          "text": [
            "100%|██████████| 28.9k/28.9k [00:00<00:00, 133kB/s]\n"
          ]
        },
        {
          "output_type": "stream",
          "name": "stdout",
          "text": [
            "Extracting /content/MNIST/raw/train-labels-idx1-ubyte.gz to /content/MNIST/raw\n",
            "\n",
            "Downloading http://yann.lecun.com/exdb/mnist/t10k-images-idx3-ubyte.gz\n",
            "Failed to download (trying next):\n",
            "HTTP Error 404: Not Found\n",
            "\n",
            "Downloading https://ossci-datasets.s3.amazonaws.com/mnist/t10k-images-idx3-ubyte.gz\n",
            "Downloading https://ossci-datasets.s3.amazonaws.com/mnist/t10k-images-idx3-ubyte.gz to /content/MNIST/raw/t10k-images-idx3-ubyte.gz\n"
          ]
        },
        {
          "output_type": "stream",
          "name": "stderr",
          "text": [
            "100%|██████████| 1.65M/1.65M [00:06<00:00, 241kB/s]\n"
          ]
        },
        {
          "output_type": "stream",
          "name": "stdout",
          "text": [
            "Extracting /content/MNIST/raw/t10k-images-idx3-ubyte.gz to /content/MNIST/raw\n",
            "\n",
            "Downloading http://yann.lecun.com/exdb/mnist/t10k-labels-idx1-ubyte.gz\n",
            "Failed to download (trying next):\n",
            "HTTP Error 404: Not Found\n",
            "\n",
            "Downloading https://ossci-datasets.s3.amazonaws.com/mnist/t10k-labels-idx1-ubyte.gz\n",
            "Downloading https://ossci-datasets.s3.amazonaws.com/mnist/t10k-labels-idx1-ubyte.gz to /content/MNIST/raw/t10k-labels-idx1-ubyte.gz\n"
          ]
        },
        {
          "output_type": "stream",
          "name": "stderr",
          "text": [
            "100%|██████████| 4.54k/4.54k [00:00<00:00, 2.79MB/s]"
          ]
        },
        {
          "output_type": "stream",
          "name": "stdout",
          "text": [
            "Extracting /content/MNIST/raw/t10k-labels-idx1-ubyte.gz to /content/MNIST/raw\n",
            "\n"
          ]
        },
        {
          "output_type": "stream",
          "name": "stderr",
          "text": [
            "\n"
          ]
        }
      ]
    },
    {
      "cell_type": "markdown",
      "source": [
        "# Plot Samples from The Dataset:"
      ],
      "metadata": {
        "id": "KOHtrmcgvP3u"
      }
    },
    {
      "cell_type": "code",
      "source": [
        "# Digits classes\n",
        "digit_classes = train.classes\n",
        "digit_classes"
      ],
      "metadata": {
        "colab": {
          "base_uri": "https://localhost:8080/"
        },
        "id": "d_h1LMdxqb2e",
        "outputId": "d2c7ac9c-8c9c-43ec-9576-b84f5d089ddf"
      },
      "execution_count": 3,
      "outputs": [
        {
          "output_type": "execute_result",
          "data": {
            "text/plain": [
              "['0 - zero',\n",
              " '1 - one',\n",
              " '2 - two',\n",
              " '3 - three',\n",
              " '4 - four',\n",
              " '5 - five',\n",
              " '6 - six',\n",
              " '7 - seven',\n",
              " '8 - eight',\n",
              " '9 - nine']"
            ]
          },
          "metadata": {},
          "execution_count": 3
        }
      ]
    },
    {
      "cell_type": "code",
      "source": [
        "# Plot random digits in gray scale:\n",
        "\n",
        "fig = plt.figure(figsize=(6, 6))\n",
        "\n",
        "# Grid deminsions\n",
        "rows = 3\n",
        "colns = 3\n",
        "\n",
        "for i in range(1, rows * colns + 1):\n",
        "  img_id = torch.randint(0, len(train), size=[1]).item() # random index\n",
        "  img, lbl = train[img_id]\n",
        "  fig.add_subplot(rows, colns, i)\n",
        "  plt.axis(False)\n",
        "  plt.title(lbl)\n",
        "  plt.imshow(img.squeeze(), cmap=\"gray\")"
      ],
      "metadata": {
        "colab": {
          "base_uri": "https://localhost:8080/",
          "height": 521
        },
        "id": "XqS8-98KNCk4",
        "outputId": "d4ec386c-733b-4c8c-b5ce-d91a06d4e44e"
      },
      "execution_count": 4,
      "outputs": [
        {
          "output_type": "display_data",
          "data": {
            "text/plain": [
              "<Figure size 600x600 with 9 Axes>"
            ],
            "image/png": "[encoded data removed]"
          },
          "metadata": {}
        }
      ]
    },
    {
      "cell_type": "markdown",
      "source": [
        "# Load the Data Using DataLoader:"
      ],
      "metadata": {
        "id": "bCKbcd-JvY0F"
      }
    },
    {
      "cell_type": "code",
      "source": [
        "# Batch size hyperparameter:\n",
        "\n",
        "BATCH_SIZE = 32\n",
        "\n",
        "# Convert the datasets into mini-batches:\n",
        "\n",
        "train_batch = DataLoader(train,\n",
        "                         batch_size=BATCH_SIZE,\n",
        "                         shuffle=False)\n",
        "\n",
        "test_batch = DataLoader(test,\n",
        "                        batch_size=BATCH_SIZE,\n",
        "                        shuffle=False)"
      ],
      "metadata": {
        "id": "dWwXNCvu2LU8"
      },
      "execution_count": 5,
      "outputs": []
    },
    {
      "cell_type": "code",
      "source": [
        "print(f\"1-Training batch size: {len(train_batch)} \\n2-Testing batch size: {len(test_batch)}\")"
      ],
      "metadata": {
        "colab": {
          "base_uri": "https://localhost:8080/"
        },
        "id": "w5mC0qQYEDCM",
        "outputId": "4ff9b8ee-4298-4c7d-a14d-2ae8bed4b52e"
      },
      "execution_count": 6,
      "outputs": [
        {
          "output_type": "stream",
          "name": "stdout",
          "text": [
            "1-Training batch size: 1875 \n",
            "2-Testing batch size: 313\n"
          ]
        }
      ]
    },
    {
      "cell_type": "code",
      "source": [
        "# Check the training dataloader:\n",
        "\n",
        "train_batch_features, train_batch_labels = next(iter(train_batch))\n",
        "train_batch_features.shape, train_batch_labels.shape"
      ],
      "metadata": {
        "colab": {
          "base_uri": "https://localhost:8080/"
        },
        "id": "H7QNC2nLHwy2",
        "outputId": "2c180c7a-4aa5-494b-e041-57d70d998c32"
      },
      "execution_count": 7,
      "outputs": [
        {
          "output_type": "execute_result",
          "data": {
            "text/plain": [
              "(torch.Size([32, 1, 28, 28]), torch.Size([32]))"
            ]
          },
          "metadata": {},
          "execution_count": 7
        }
      ]
    },
    {
      "cell_type": "markdown",
      "source": [
        "# Build the DeepLearning Model:"
      ],
      "metadata": {
        "id": "ifp00lDzve9t"
      }
    },
    {
      "cell_type": "code",
      "source": [
        "# Create the model:\n",
        "\n",
        "class Digit_Classifier_Model(nn.Module):\n",
        "  def __init__(self, input_shape, output_shape, hidden_units):\n",
        "    super().__init__()\n",
        "\n",
        "    self.layers = nn.Sequential(\n",
        "        nn.Flatten(),\n",
        "        nn.Linear(in_features=input_shape, out_features=hidden_units),\n",
        "        nn.ReLU(),\n",
        "        nn.Linear(in_features=hidden_units, out_features=hidden_units),\n",
        "        nn.ReLU(),\n",
        "        nn.Linear(in_features=hidden_units, out_features=hidden_units),\n",
        "        nn.ReLU(),\n",
        "        nn.Linear(in_features=hidden_units, out_features=output_shape)\n",
        "    )\n",
        "\n",
        "  def forward(self, x):\n",
        "    \"\"\"Forward Pass\"\"\"\n",
        "    return self.layers(x)\n"
      ],
      "metadata": {
        "id": "T30e4iONSXef"
      },
      "execution_count": 8,
      "outputs": []
    },
    {
      "cell_type": "markdown",
      "source": [
        "# Setup the Model and Device Agnostic Code:"
      ],
      "metadata": {
        "id": "S8DCenSOvmvu"
      }
    },
    {
      "cell_type": "code",
      "source": [
        "# Setup the model and device agnostic code:\n",
        "\n",
        "device = \"cuda\" if torch.cuda.is_available() else \"cpu\"\n",
        "Digit_Classifier = Digit_Classifier_Model(input_shape=784, output_shape=len(digit_classes), hidden_units=10)\n",
        "Digit_Classifier.to(device)\n",
        "print(f\"The model is on: {device}\")"
      ],
      "metadata": {
        "colab": {
          "base_uri": "https://localhost:8080/"
        },
        "id": "7Ui9su72Uyci",
        "outputId": "a63a8001-e6d8-425f-b7e7-f4dac8a4be48"
      },
      "execution_count": 9,
      "outputs": [
        {
          "output_type": "stream",
          "name": "stdout",
          "text": [
            "The model is on: cuda\n"
          ]
        }
      ]
    },
    {
      "cell_type": "markdown",
      "source": [
        "# Optimizer and Loss Functions:"
      ],
      "metadata": {
        "id": "Rxm37H5Zu2ad"
      }
    },
    {
      "cell_type": "code",
      "source": [
        "# Setup loss function and optimizer:\n",
        "\n",
        "loss_fn = nn.CrossEntropyLoss()\n",
        "optimizer = torch.optim.Adam(params=Digit_Classifier.parameters(), lr=0.001)"
      ],
      "metadata": {
        "id": "zLg7FQ2qVg0Q"
      },
      "execution_count": 10,
      "outputs": []
    },
    {
      "cell_type": "markdown",
      "source": [
        "# Training and Testing Loop:"
      ],
      "metadata": {
        "id": "4oxtKnRyuosc"
      }
    },
    {
      "cell_type": "code",
      "source": [
        "# Training and testing loop:\n",
        "\n",
        "torch.manual_seed(42)\n",
        "epochs = 20\n",
        "\n",
        "train_loss_rate = []\n",
        "test_loss_rate = []\n",
        "training_time = []\n",
        "\n",
        "# Creat training and testing loop:\n",
        "for epoch in range(epochs):\n",
        "\n",
        "  start_timer = timeit.default_timer()\n",
        "\n",
        "  average_train_loss = 0.0\n",
        "\n",
        "  # Loop through the batches\n",
        "  for batch, (X, y) in enumerate(train_batch):\n",
        "\n",
        "    # Train mode\n",
        "    Digit_Classifier.train()\n",
        "\n",
        "    # Forward pass\n",
        "    train_pred = Digit_Classifier(X.to(device))\n",
        "\n",
        "    # Calculate the loss\n",
        "    train_loss = loss_fn(train_pred, y.to(device))\n",
        "\n",
        "    average_train_loss += train_loss.item() # add the loss per epoch through the batch\n",
        "\n",
        "    # Optimizer Zero_grad\n",
        "    optimizer.zero_grad()\n",
        "\n",
        "    # Back propagation\n",
        "    train_loss.backward()\n",
        "\n",
        "    # Optimizer step\n",
        "    optimizer.step()\n",
        "\n",
        "  # Divide total train loss by length of training batch (average loss per batch per the epoch)\n",
        "  average_train_loss /= len(train_batch)\n",
        "\n",
        "\n",
        "  # Testing loop:\n",
        "\n",
        "  average_test_loss = 0.0\n",
        "\n",
        "  Digit_Classifier.eval()\n",
        "  with torch.inference_mode():\n",
        "\n",
        "    # Loop through test dataset\n",
        "    for X, y in test_batch:\n",
        "\n",
        "      test_pred = Digit_Classifier(X.to(device))\n",
        "\n",
        "      test_loss = loss_fn(test_pred, y.to(device))\n",
        "\n",
        "      average_test_loss += test_loss.item()\n",
        "\n",
        "    average_test_loss /= len(test_batch)\n",
        "\n",
        "    end_timer = timeit.default_timer()\n",
        "\n",
        "    epoch_training_duration = end_timer - start_timer\n",
        "\n",
        "  print(f\"Epoch: {epoch + 1} | Train loss: {average_train_loss:.3f} | Test loss: {average_test_loss:.3f} | Epoch Time: {epoch_training_duration:.2f} sec\")\n",
        "\n",
        "  # Append the results\n",
        "  train_loss_rate.append(average_train_loss)\n",
        "  test_loss_rate.append(average_test_loss)\n",
        "  training_time.append(epoch_training_duration)\n"
      ],
      "metadata": {
        "id": "XooU8rIYWmnd",
        "colab": {
          "base_uri": "https://localhost:8080/"
        },
        "outputId": "0a01487f-1b19-4f4d-8a11-193aa08784af"
      },
      "execution_count": 11,
      "outputs": [
        {
          "output_type": "stream",
          "name": "stdout",
          "text": [
            "Epoch: 1 | Train loss: 0.767 | Test loss: 0.438 | Epoch Time: 10.99 sec\n",
            "Epoch: 2 | Train loss: 0.392 | Test loss: 0.361 | Epoch Time: 10.43 sec\n",
            "Epoch: 3 | Train loss: 0.326 | Test loss: 0.319 | Epoch Time: 10.38 sec\n",
            "Epoch: 4 | Train loss: 0.293 | Test loss: 0.290 | Epoch Time: 10.06 sec\n",
            "Epoch: 5 | Train loss: 0.271 | Test loss: 0.272 | Epoch Time: 14.75 sec\n",
            "Epoch: 6 | Train loss: 0.253 | Test loss: 0.260 | Epoch Time: 10.21 sec\n",
            "Epoch: 7 | Train loss: 0.240 | Test loss: 0.251 | Epoch Time: 10.01 sec\n",
            "Epoch: 8 | Train loss: 0.231 | Test loss: 0.244 | Epoch Time: 10.40 sec\n",
            "Epoch: 9 | Train loss: 0.223 | Test loss: 0.238 | Epoch Time: 10.33 sec\n",
            "Epoch: 10 | Train loss: 0.217 | Test loss: 0.233 | Epoch Time: 10.55 sec\n",
            "Epoch: 11 | Train loss: 0.212 | Test loss: 0.229 | Epoch Time: 10.49 sec\n",
            "Epoch: 12 | Train loss: 0.207 | Test loss: 0.227 | Epoch Time: 10.79 sec\n",
            "Epoch: 13 | Train loss: 0.203 | Test loss: 0.225 | Epoch Time: 10.02 sec\n",
            "Epoch: 14 | Train loss: 0.199 | Test loss: 0.224 | Epoch Time: 10.13 sec\n",
            "Epoch: 15 | Train loss: 0.196 | Test loss: 0.223 | Epoch Time: 10.33 sec\n",
            "Epoch: 16 | Train loss: 0.192 | Test loss: 0.222 | Epoch Time: 10.42 sec\n",
            "Epoch: 17 | Train loss: 0.190 | Test loss: 0.222 | Epoch Time: 10.42 sec\n",
            "Epoch: 18 | Train loss: 0.187 | Test loss: 0.223 | Epoch Time: 10.41 sec\n",
            "Epoch: 19 | Train loss: 0.185 | Test loss: 0.224 | Epoch Time: 10.10 sec\n",
            "Epoch: 20 | Train loss: 0.182 | Test loss: 0.225 | Epoch Time: 10.08 sec\n"
          ]
        }
      ]
    },
    {
      "cell_type": "markdown",
      "source": [
        "# Plot the Train and Test Loss through the Epochs:"
      ],
      "metadata": {
        "id": "aQZfdVzOuby1"
      }
    },
    {
      "cell_type": "code",
      "source": [
        "# Plot the Training and Testing Loss\n",
        "\n",
        "epochs = range(1, 21)\n",
        "\n",
        "plt.figure(figsize=(10, 5))\n",
        "plt.plot(epochs, train_loss_rate, marker=\"o\")\n",
        "plt.plot(epochs, test_loss_rate, marker=\"s\")\n",
        "plt.xlabel(\"Epochs\")\n",
        "plt.ylabel(\"Loss\")\n",
        "plt.title(\"Training & Testing Loss\")\n",
        "plt.legend(loc=\"upper right\")\n",
        "plt.show()\n"
      ],
      "metadata": {
        "colab": {
          "base_uri": "https://localhost:8080/",
          "height": 542
        },
        "id": "9gTl6rmTODwN",
        "outputId": "ae8000a2-9655-4496-87d9-1e8c51b47487"
      },
      "execution_count": 19,
      "outputs": [
        {
          "output_type": "stream",
          "name": "stderr",
          "text": [
            "<ipython-input-19-d262624bc4bf>:11: UserWarning: No artists with labels found to put in legend.  Note that artists whose label start with an underscore are ignored when legend() is called with no argument.\n",
            "  plt.legend(loc=\"upper right\")\n"
          ]
        },
        {
          "output_type": "display_data",
          "data": {
            "text/plain": [
              "<Figure size 1000x500 with 1 Axes>"
            ],
            "image/png": "[encoded data removed]"
          },
          "metadata": {}
        }
      ]
    },
    {
      "cell_type": "markdown",
      "source": [
        "# Save the model:\n"
      ],
      "metadata": {
        "id": "QgxlEdC8uKAt"
      }
    },
    {
      "cell_type": "code",
      "source": [
        "# Saving the model:\n",
        "\n",
        "MODEL_NAME = \"Digit_Classifier_Model_state_dict.pth\"\n",
        "DIR = Path(\"Models\")\n",
        "DIR.mkdir(parents=True, exist_ok=True)\n",
        "MODEL_SAVE_PATH = DIR/MODEL_NAME # Save directory\n",
        "#torch.save(obj=Digit_Classifier.state_dict(), f=MODEL_SAVE_PATH) # Save the model parameters (state_dict())"
      ],
      "metadata": {
        "id": "d_2RJ9P6t-PW"
      },
      "execution_count": 13,
      "outputs": []
    }
  ]
}