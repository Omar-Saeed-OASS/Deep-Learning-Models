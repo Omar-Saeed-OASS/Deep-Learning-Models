{
  "nbformat": 4,
  "nbformat_minor": 0,
  "metadata": {
    "colab": {
      "provenance": [],
      "gpuType": "T4",
      "include_colab_link": true
    },
    "kernelspec": {
      "name": "python3",
      "display_name": "Python 3"
    },
    "language_info": {
      "name": "python"
    },
    "accelerator": "GPU"
  },
  "cells": [
    {
      "cell_type": "markdown",
      "metadata": {
        "id": "view-in-github",
        "colab_type": "text"
      },
      "source": [
        "<a href=\"https://colab.research.google.com/github/Omar-Saeed-OASS/Deep-Learning-Models/blob/main/Cloth_Classifier_Model_train.ipynb\" target=\"_parent\"><img src=\"https://colab.research.google.com/assets/colab-badge.svg\" alt=\"Open In Colab\"/></a>"
      ]
    },
    {
      "cell_type": "code",
      "execution_count": null,
      "metadata": {
        "id": "c1gjM5H8ooIT"
      },
      "outputs": [],
      "source": [
        "# Import dependencies:\n",
        "import torch\n",
        "from torch import nn\n",
        "\n",
        "# Import torchvision\n",
        "import torchvision\n",
        "from torchvision import datasets\n",
        "from torchvision.transforms import ToTensor\n",
        "\n",
        "# Import matplotlib for visualization\n",
        "import matplotlib.pyplot as plt\n",
        "\n",
        "# Import DataLoader:\n",
        "from torch.utils.data import DataLoader\n",
        "\n",
        "# Import timeit:\n",
        "import timeit\n",
        "\n",
        "# Import path:\n",
        "from pathlib import Path"
      ]
    },
    {
      "cell_type": "code",
      "source": [
        "# Download the MNIST Fashion dataset:\n",
        "\n",
        "# Download path\n",
        "ROOT = \"/content\"\n",
        "\n",
        "# Training dataset\n",
        "train = datasets.FashionMNIST(\n",
        "    root=ROOT,\n",
        "    train=True,\n",
        "    download=True,\n",
        "    transform=ToTensor(),\n",
        "\n",
        ")\n",
        "\n",
        "# Test dataset\n",
        "test = datasets.FashionMNIST(\n",
        "    root=ROOT,\n",
        "    train=False,\n",
        "    download=True,\n",
        "    transform=ToTensor(),\n",
        ")\n"
      ],
      "metadata": {
        "colab": {
          "base_uri": "https://localhost:8080/"
        },
        "id": "kJnQj0nfph2d",
        "outputId": "b6916dbd-9c68-4157-8280-ec2eebf54955"
      },
      "execution_count": null,
      "outputs": [
        {
          "output_type": "stream",
          "name": "stdout",
          "text": [
            "Downloading http://fashion-mnist.s3-website.eu-central-1.amazonaws.com/train-images-idx3-ubyte.gz\n",
            "Downloading http://fashion-mnist.s3-website.eu-central-1.amazonaws.com/train-images-idx3-ubyte.gz to /content/FashionMNIST/raw/train-images-idx3-ubyte.gz\n"
          ]
        },
        {
          "output_type": "stream",
          "name": "stderr",
          "text": [
            "100%|██████████| 26.4M/26.4M [00:01<00:00, 14.1MB/s]\n"
          ]
        },
        {
          "output_type": "stream",
          "name": "stdout",
          "text": [
            "Extracting /content/FashionMNIST/raw/train-images-idx3-ubyte.gz to /content/FashionMNIST/raw\n",
            "\n",
            "Downloading http://fashion-mnist.s3-website.eu-central-1.amazonaws.com/train-labels-idx1-ubyte.gz\n",
            "Downloading http://fashion-mnist.s3-website.eu-central-1.amazonaws.com/train-labels-idx1-ubyte.gz to /content/FashionMNIST/raw/train-labels-idx1-ubyte.gz\n"
          ]
        },
        {
          "output_type": "stream",
          "name": "stderr",
          "text": [
            "100%|██████████| 29.5k/29.5k [00:00<00:00, 211kB/s]\n"
          ]
        },
        {
          "output_type": "stream",
          "name": "stdout",
          "text": [
            "Extracting /content/FashionMNIST/raw/train-labels-idx1-ubyte.gz to /content/FashionMNIST/raw\n",
            "\n",
            "Downloading http://fashion-mnist.s3-website.eu-central-1.amazonaws.com/t10k-images-idx3-ubyte.gz\n",
            "Downloading http://fashion-mnist.s3-website.eu-central-1.amazonaws.com/t10k-images-idx3-ubyte.gz to /content/FashionMNIST/raw/t10k-images-idx3-ubyte.gz\n"
          ]
        },
        {
          "output_type": "stream",
          "name": "stderr",
          "text": [
            "100%|██████████| 4.42M/4.42M [00:01<00:00, 3.91MB/s]\n"
          ]
        },
        {
          "output_type": "stream",
          "name": "stdout",
          "text": [
            "Extracting /content/FashionMNIST/raw/t10k-images-idx3-ubyte.gz to /content/FashionMNIST/raw\n",
            "\n",
            "Downloading http://fashion-mnist.s3-website.eu-central-1.amazonaws.com/t10k-labels-idx1-ubyte.gz\n",
            "Downloading http://fashion-mnist.s3-website.eu-central-1.amazonaws.com/t10k-labels-idx1-ubyte.gz to /content/FashionMNIST/raw/t10k-labels-idx1-ubyte.gz\n"
          ]
        },
        {
          "output_type": "stream",
          "name": "stderr",
          "text": [
            "100%|██████████| 5.15k/5.15k [00:00<00:00, 22.8MB/s]"
          ]
        },
        {
          "output_type": "stream",
          "name": "stdout",
          "text": [
            "Extracting /content/FashionMNIST/raw/t10k-labels-idx1-ubyte.gz to /content/FashionMNIST/raw\n",
            "\n"
          ]
        },
        {
          "output_type": "stream",
          "name": "stderr",
          "text": [
            "\n"
          ]
        }
      ]
    },
    {
      "cell_type": "code",
      "source": [
        "# Clothes classes:\n",
        "cloth_classes = train.classes\n",
        "cloth_classes"
      ],
      "metadata": {
        "colab": {
          "base_uri": "https://localhost:8080/"
        },
        "id": "DrVTnt7Ythg9",
        "outputId": "dda2d360-fb27-4944-8269-fe4e0f5bf0be"
      },
      "execution_count": null,
      "outputs": [
        {
          "output_type": "execute_result",
          "data": {
            "text/plain": [
              "['T-shirt/top',\n",
              " 'Trouser',\n",
              " 'Pullover',\n",
              " 'Dress',\n",
              " 'Coat',\n",
              " 'Sandal',\n",
              " 'Shirt',\n",
              " 'Sneaker',\n",
              " 'Bag',\n",
              " 'Ankle boot']"
            ]
          },
          "metadata": {},
          "execution_count": 3
        }
      ]
    },
    {
      "cell_type": "code",
      "source": [
        "# Plot random training samples in gray scale:\n",
        "\n",
        "fig = plt.figure(figsize=(6, 6))\n",
        "\n",
        "# Grid deminsions\n",
        "rows = 3\n",
        "colns = 3\n",
        "\n",
        "for i in range(1, rows * colns + 1):\n",
        "  img_id = torch.randint(0, len(train), size=[1]).item() # random index\n",
        "  img, lbl = train[img_id]\n",
        "  fig.add_subplot(rows, colns, i)\n",
        "  plt.axis(False)\n",
        "  plt.title(cloth_classes[lbl])\n",
        "  plt.imshow(img.squeeze(), cmap=\"gray\")"
      ],
      "metadata": {
        "colab": {
          "base_uri": "https://localhost:8080/",
          "height": 521
        },
        "id": "SUl2Hx7EwkKX",
        "outputId": "4ec6a50b-0ef7-4bae-e96c-1289cf05249a"
      },
      "execution_count": null,
      "outputs": [
        {
          "output_type": "display_data",
          "data": {
            "text/plain": [
              "<Figure size 600x600 with 9 Axes>"
            ],
            "image/png": "[encoded data removed]"
          },
          "metadata": {}
        }
      ]
    },
    {
      "cell_type": "code",
      "source": [
        "# Batch size hyperparameter:\n",
        "BATCH_SIZE = 32\n",
        "\n",
        "# Convert the datasets into mini-batches:\n",
        "train_batch = DataLoader(\n",
        "    train,\n",
        "    batch_size=BATCH_SIZE,\n",
        "    shuffle=True\n",
        ")\n",
        "\n",
        "test_batch = DataLoader(\n",
        "    test,\n",
        "    batch_size=BATCH_SIZE,\n",
        "    shuffle=False\n",
        ")"
      ],
      "metadata": {
        "id": "erx1ozro6Xi_"
      },
      "execution_count": null,
      "outputs": []
    },
    {
      "cell_type": "code",
      "source": [
        "# Print details about the loaders:\n",
        "print(f\"Length of train batch: {len(train_batch)}\")\n",
        "print(f\"Length of train batch: {len(test_batch)}\")"
      ],
      "metadata": {
        "colab": {
          "base_uri": "https://localhost:8080/"
        },
        "id": "bTd7P7wH8_Aa",
        "outputId": "7894761a-0e0f-4506-9763-d5eb6db64759"
      },
      "execution_count": null,
      "outputs": [
        {
          "output_type": "stream",
          "name": "stdout",
          "text": [
            "Length of train batch: 1875\n",
            "Length of train batch: 313\n"
          ]
        }
      ]
    },
    {
      "cell_type": "code",
      "source": [
        "# Check the training dataloaders size:\n",
        "train_features_batch, train_labels_batch = next(iter(train_batch))\n",
        "train_features_batch.shape, train_labels_batch.shape"
      ],
      "metadata": {
        "colab": {
          "base_uri": "https://localhost:8080/"
        },
        "id": "OrNPiCtD9l65",
        "outputId": "15eee053-d32f-4ad1-e78b-c1941d1324c8"
      },
      "execution_count": null,
      "outputs": [
        {
          "output_type": "execute_result",
          "data": {
            "text/plain": [
              "(torch.Size([32, 1, 28, 28]), torch.Size([32]))"
            ]
          },
          "metadata": {},
          "execution_count": 7
        }
      ]
    },
    {
      "cell_type": "code",
      "source": [
        "# Create the model:\n",
        "\n",
        "class Clothes_Classifier_Model(nn.Module):\n",
        "  def __init__(self, input_shape, output_shape, hidden_units):\n",
        "    super().__init__()\n",
        "    self.layers = nn.Sequential(\n",
        "        nn.Flatten(), # input as vector form\n",
        "        nn.Linear(in_features=input_shape, out_features=hidden_units),\n",
        "        nn.Linear(in_features=hidden_units, out_features=hidden_units),\n",
        "        nn.Linear(in_features=hidden_units, out_features=output_shape)\n",
        "    )\n",
        "\n",
        "  def forward(self, x):\n",
        "    \"\"\"Forward Pass\"\"\"\n",
        "    return self.layers(x)\n"
      ],
      "metadata": {
        "id": "lm4jFTzOVfJZ"
      },
      "execution_count": null,
      "outputs": []
    },
    {
      "cell_type": "code",
      "source": [
        "# Setup the model and device agnostic code:\n",
        "device = \"cuda\" if torch.cuda.is_available() else \"cpu\"\n",
        "Clothes_Classifier = Clothes_Classifier_Model(input_shape=784, output_shape=len(cloth_classes), hidden_units=10)\n",
        "Clothes_Classifier.to(device)\n"
      ],
      "metadata": {
        "colab": {
          "base_uri": "https://localhost:8080/"
        },
        "id": "x-KEtZze3N8D",
        "outputId": "582d2055-255c-4abb-facc-b83e533942a9"
      },
      "execution_count": null,
      "outputs": [
        {
          "output_type": "execute_result",
          "data": {
            "text/plain": [
              "Clothes_Classifier_Model(\n",
              "  (layers): Sequential(\n",
              "    (0): Flatten(start_dim=1, end_dim=-1)\n",
              "    (1): Linear(in_features=784, out_features=10, bias=True)\n",
              "    (2): Linear(in_features=10, out_features=10, bias=True)\n",
              "    (3): Linear(in_features=10, out_features=10, bias=True)\n",
              "  )\n",
              ")"
            ]
          },
          "metadata": {},
          "execution_count": 9
        }
      ]
    },
    {
      "cell_type": "code",
      "source": [
        "# Setup Loss function and optimizer:\n",
        "loss_fn = nn.CrossEntropyLoss()\n",
        "optimizer = torch.optim.SGD(params=Clothes_Classifier.parameters(), lr=0.01)"
      ],
      "metadata": {
        "id": "myYdVKF76tok"
      },
      "execution_count": null,
      "outputs": []
    },
    {
      "cell_type": "code",
      "source": [
        "torch.manual_seed(42)\n",
        "\n",
        "# Epochs:\n",
        "epochs = 3\n",
        "\n",
        "train_loss_rate = []\n",
        "test_loss_rate = []\n",
        "training_time = []\n",
        "\n",
        "# Creat training and testing loop:\n",
        "for epoch in range(epochs):\n",
        "\n",
        "  start_timer = timeit.default_timer() # start the timer\n",
        "  average_train_loss = 0.0\n",
        "\n",
        "  # Loop through the batches\n",
        "  for batch, (X, y) in enumerate(train_batch):\n",
        "\n",
        "    # Train mode\n",
        "    Clothes_Classifier.train()\n",
        "\n",
        "    # Forward pass\n",
        "    train_pred = Clothes_Classifier(X.to(device))\n",
        "\n",
        "    # Calculate the loss per batch:\n",
        "    train_loss = loss_fn(train_pred, y.to(device))\n",
        "    average_train_loss += train_loss.item() # add the loss per epoch through the batch\n",
        "\n",
        "    # Optimizer zero grad:\n",
        "    optimizer.zero_grad()\n",
        "\n",
        "    # Loss backward:\n",
        "    train_loss.backward()\n",
        "\n",
        "    # Optimizer step:\n",
        "    optimizer.step()\n",
        "\n",
        "    # Divide total train loss by length of training dataloader (average loss per batch per the epoch)\n",
        "  average_train_loss /= len(train_batch)\n",
        "\n",
        "  # Testing Loop:\n",
        "  average_test_loss = 0.0\n",
        "\n",
        "  Clothes_Classifier.eval()\n",
        "  with torch.inference_mode():\n",
        "    for X, y in test_batch:\n",
        "\n",
        "      # Forward pass:\n",
        "      test_pred = Clothes_Classifier(X.to(device))\n",
        "\n",
        "      # Calculate the test loss:\n",
        "      test_loss = loss_fn(test_pred, y.to(device))\n",
        "\n",
        "      average_test_loss += test_loss.item()\n",
        "\n",
        "    average_test_loss /= len(test_batch)\n",
        "\n",
        "  end_timer = timeit.default_timer() # end the timer\n",
        "\n",
        "  training_epoch_duration = end_timer - start_timer\n",
        "\n",
        "  print(f\"Epoch: {epoch + 1} | Train loss: {train_loss} | Test loss: {test_loss} | Time: {training_epoch_duration}\")\n",
        "\n",
        "  # Append the results\n",
        "  train_loss_rate.append(average_train_loss)\n",
        "  test_loss_rate.append(average_test_loss)\n",
        "  training_time.append(training_epoch_duration)"
      ],
      "metadata": {
        "colab": {
          "base_uri": "https://localhost:8080/"
        },
        "id": "D2V6KtP68ZF-",
        "outputId": "7470afcc-1d12-4279-f1aa-146b2c41d1c1"
      },
      "execution_count": null,
      "outputs": [
        {
          "output_type": "stream",
          "name": "stdout",
          "text": [
            "Epoch: 1 | Train loss: 0.46309271454811096 | Test loss: 0.4244297444820404 | Time: 14.258040176999998\n",
            "Epoch: 2 | Train loss: 0.5805755853652954 | Test loss: 0.3896171450614929 | Time: 14.682446096999996\n",
            "Epoch: 3 | Train loss: 0.3691590428352356 | Test loss: 0.3442694842815399 | Time: 8.64417829300001\n"
          ]
        }
      ]
    },
    {
      "cell_type": "code",
      "source": [
        "# plot the Training and the testing loss:\n",
        "\n",
        "epochs = range(1, epochs + 1)\n",
        "\n",
        "plt.figure(figsize=(10, 5))\n",
        "plt.plot(epochs, train_loss_rate, marker=\"o\")\n",
        "plt.plot(epochs, test_loss_rate, marker=\"s\")\n",
        "plt.xlabel(\"Epochs\")\n",
        "plt.ylabel(\"Loss\")\n",
        "plt.title(\"Training & Testing Loss\")\n",
        "plt.legend(loc=\"upper right\")\n",
        "plt.show()"
      ],
      "metadata": {
        "colab": {
          "base_uri": "https://localhost:8080/",
          "height": 421
        },
        "id": "Jnc43fm7boRK",
        "outputId": "839ffad1-03ce-4781-eaf2-efcd63cf4755"
      },
      "execution_count": null,
      "outputs": [
        {
          "output_type": "stream",
          "name": "stderr",
          "text": [
            "<ipython-input-12-1a27c2b2f4ed>:11: UserWarning: No artists with labels found to put in legend.  Note that artists whose label start with an underscore are ignored when legend() is called with no argument.\n",
            "  plt.legend(loc=\"upper right\")\n"
          ]
        },
        {
          "output_type": "display_data",
          "data": {
            "text/plain": [
              "<Figure size 1000x500 with 1 Axes>"
            ],
            "image/png": "[encoded data removed]"
          },
          "metadata": {}
        }
      ]
    },
    {
      "cell_type": "code",
      "source": [
        "# Saving the model:\n",
        "MODEL_NAME = \"Clothes_Classifier_Model_state_dict.pth\"\n",
        "DIR = Path(\"Models\")\n",
        "DIR.mkdir(parents=True, exist_ok=True)\n",
        "MODEL_SAVE_PATH = DIR/MODEL_NAME # Save directory\n",
        "\n",
        "torch.save(obj=Clothes_Classifier.state_dict(), f=MODEL_SAVE_PATH)"
      ],
      "metadata": {
        "id": "jHV9iebqBbFH"
      },
      "execution_count": null,
      "outputs": []
    }
  ]
}